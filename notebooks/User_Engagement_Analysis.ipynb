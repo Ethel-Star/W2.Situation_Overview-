{
 "cells": [
  {
   "cell_type": "markdown",
   "metadata": {},
   "source": [
    "# 10 Academy: Artificial Intelligence Mastery\n",
    "# Situational Overview \n",
    "# User Engagement Analysis"
   ]
  },
  {
   "cell_type": "code",
   "execution_count": 2,
   "metadata": {},
   "outputs": [],
   "source": [
    "import sys\n",
    "import os\n",
    "import pandas as pd\n",
    "import matplotlib.pyplot as plt\n",
    "import seaborn as sns\n",
    "import numpy as np\n",
    "\n",
    "# Add the scripts directory to the Python path\n",
    "scripts_dir = r'E:\\2017.Study\\Tenx\\Week-2\\Situation_Overview\\W2.Situation_Overview\\scripts'\n",
    "src_dir = r'E:\\2017.Study\\Tenx\\Week-2\\Situation_Overview\\W2.Situation_Overview\\src'\n",
    "sys.path.append(scripts_dir)\n",
    "sys.path.append(src_dir)\n",
    "from connection import DatabaseConnector\n",
    "from utils import DataUtils"
   ]
  },
  {
   "cell_type": "markdown",
   "metadata": {},
   "source": [
    "# 1. Data Extraction \n",
    "# Connect to the database and pandas."
   ]
  },
  {
   "cell_type": "code",
   "execution_count": 4,
   "metadata": {},
   "outputs": [
    {
     "name": "stdout",
     "output_type": "stream",
     "text": [
      "Connection successful.\n",
      "           Bearer Id            Start  Start ms              End  End ms  \\\n",
      "0       1.311448e+19   4/4/2019 12:01     770.0  4/25/2019 14:35   662.0   \n",
      "1       1.311448e+19   4/9/2019 13:04     235.0   4/25/2019 8:15   606.0   \n",
      "2       1.311448e+19   4/9/2019 17:42       1.0  4/25/2019 11:58   652.0   \n",
      "3       1.311448e+19   4/10/2019 0:31     486.0   4/25/2019 7:36   171.0   \n",
      "4       1.311448e+19  4/12/2019 20:10     565.0  4/25/2019 10:40   954.0   \n",
      "...              ...              ...       ...              ...     ...   \n",
      "149996  7.277826e+18   4/29/2019 7:28     451.0   4/30/2019 6:02   214.0   \n",
      "149997  7.349883e+18   4/29/2019 7:28     483.0  4/30/2019 10:41   187.0   \n",
      "149998  1.311448e+19   4/29/2019 7:28     283.0  4/30/2019 10:46   810.0   \n",
      "149999  1.311448e+19   4/29/2019 7:28     696.0  4/30/2019 10:40   327.0   \n",
      "150000           NaN             None       NaN             None     NaN   \n",
      "\n",
      "        Dur. (ms)          IMSI  MSISDN/Number          IMEI  \\\n",
      "0       1823652.0  2.082014e+14   3.366496e+10  3.552121e+13   \n",
      "1       1365104.0  2.082019e+14   3.368185e+10  3.579401e+13   \n",
      "2       1361762.0  2.082003e+14   3.376063e+10  3.528151e+13   \n",
      "3       1321509.0  2.082014e+14   3.375034e+10  3.535661e+13   \n",
      "4       1089009.0  2.082014e+14   3.369980e+10  3.540701e+13   \n",
      "...           ...           ...            ...           ...   \n",
      "149996    81230.0  2.082022e+14   3.365069e+10  3.548311e+13   \n",
      "149997    97970.0  2.082019e+14   3.366345e+10  3.566051e+13   \n",
      "149998    98249.0  2.082017e+14   3.362189e+10  3.572121e+13   \n",
      "149999    97910.0  2.082021e+14   3.361962e+10  8.618620e+13   \n",
      "150000        NaN           NaN            NaN           NaN   \n",
      "\n",
      "           Last Location Name  ...  Youtube DL (Bytes)  Youtube UL (Bytes)  \\\n",
      "0       9.16456699548519E+015  ...        1.585461e+07        2.501332e+06   \n",
      "1                     L77566A  ...        2.024740e+07        1.911173e+07   \n",
      "2                     D42335A  ...        1.972566e+07        1.469958e+07   \n",
      "3                     T21824A  ...        2.138812e+07        1.514664e+07   \n",
      "4                     D88865A  ...        1.525938e+07        1.896287e+07   \n",
      "...                       ...  ...                 ...                 ...   \n",
      "149996                D20434A  ...        1.619167e+07        1.176343e+07   \n",
      "149997                D10223C  ...        1.387723e+07        8.288284e+06   \n",
      "149998                T51102A  ...        2.266051e+07        1.855903e+06   \n",
      "149999                L88342B  ...        8.817106e+06        8.305402e+06   \n",
      "150000                   None  ...        1.163407e+07        1.100941e+07   \n",
      "\n",
      "        Netflix DL (Bytes)  Netflix UL (Bytes)  Gaming DL (Bytes)  \\\n",
      "0             8.198936e+06        9.656251e+06       2.780823e+08   \n",
      "1             1.833841e+07        1.722713e+07       6.087501e+08   \n",
      "2             1.758779e+07        6.163408e+06       2.295846e+08   \n",
      "3             1.399465e+07        1.097942e+06       7.995382e+08   \n",
      "4             1.712458e+07        4.152180e+05       5.277072e+08   \n",
      "...                    ...                 ...                ...   \n",
      "149996        1.788370e+07        1.967816e+07       5.266097e+08   \n",
      "149997        1.935015e+07        2.129315e+07       6.268931e+08   \n",
      "149998        9.963942e+06        5.065760e+06       5.535395e+08   \n",
      "149999        3.322253e+06        1.317259e+07       3.525370e+08   \n",
      "150000        1.162685e+07        1.100175e+07       4.220447e+08   \n",
      "\n",
      "        Gaming UL (Bytes)  Other DL (Bytes)  Other UL (Bytes)  \\\n",
      "0            1.434415e+07      1.717444e+08      8.814393e+06   \n",
      "1            1.170709e+06      5.269042e+08      1.505514e+07   \n",
      "2            3.956300e+05      4.106926e+08      4.215763e+06   \n",
      "3            1.084972e+07      7.490399e+08      1.279728e+07   \n",
      "4            3.529801e+06      5.507095e+08      1.391032e+07   \n",
      "...                   ...               ...               ...   \n",
      "149996       9.197207e+06      3.264510e+06      1.348742e+07   \n",
      "149997       4.735033e+06      7.121804e+08      2.457758e+06   \n",
      "149998       1.339432e+07      1.211009e+08      1.131473e+07   \n",
      "149999       2.529475e+06      8.147131e+08      1.406930e+06   \n",
      "150000       8.288398e+06      4.211005e+08      8.264799e+06   \n",
      "\n",
      "        Total UL (Bytes)  Total DL (Bytes)  \n",
      "0             36749741.0       308879636.0  \n",
      "1             53800391.0       653384965.0  \n",
      "2             27883638.0       279807335.0  \n",
      "3             43324218.0       846028530.0  \n",
      "4             38542814.0       569138589.0  \n",
      "...                  ...               ...  \n",
      "149996        57628851.0       574175259.0  \n",
      "149997        39135081.0       666648844.0  \n",
      "149998        34912224.0       592786405.0  \n",
      "149999        29626096.0       371895920.0  \n",
      "150000               NaN               NaN  \n",
      "\n",
      "[150001 rows x 55 columns]\n",
      "Connection closed.\n"
     ]
    }
   ],
   "source": [
    "db_connector = DatabaseConnector()\n",
    "\n",
    "# Connect to the database\n",
    "db_connector.connect()\n",
    "\n",
    "# Define and execute a query\n",
    "query = \"SELECT * FROM xdr_data;\"\n",
    "df = db_connector.execute_query(query)\n",
    "\n",
    "# Print the DataFrame\n",
    "if df is not None:\n",
    "    print(df)\n",
    "db_connector.close_connection()\n",
    "#print(\"Columns in DataFrame:\", df.columns)"
   ]
  },
  {
   "cell_type": "markdown",
   "metadata": {},
   "source": [
    "# 2. Data Cleansing \n",
    "# Missing Value, Outliers, and data conversion  "
   ]
  },
  {
   "cell_type": "code",
   "execution_count": 5,
   "metadata": {},
   "outputs": [
    {
     "name": "stdout",
     "output_type": "stream",
     "text": [
      "Total columns with missing values: 41\n",
      "Top 5 columns with the most missing values:\n",
      "                                          Missing Values Percentage    Dtype\n",
      "Nb of sec with 37500B < Vol UL                    130254      86.8%  float64\n",
      "Nb of sec with 6250B < Vol UL < 37500B            111843      74.6%  float64\n",
      "Nb of sec with 125000B < Vol DL                    97538      65.0%  float64\n",
      "TCP UL Retrans. Vol (Bytes)                        96649      64.4%  float64\n",
      "Nb of sec with 31250B < Vol DL < 125000B           93586      62.4%  float64\n"
     ]
    }
   ],
   "source": [
    "data_utils = DataUtils(df)\n",
    "missing_summary = data_utils.check_missing_values()\n",
    "#print(\"Missing Values Summary:\\n\", missing_summary)"
   ]
  },
  {
   "cell_type": "markdown",
   "metadata": {},
   "source": [
    "# Handling Missing Value, \n",
    "# Outliers , Fix( Median, Mean) and Remove Based on Z Score  \n",
    "handles skewness in the handle_missing_values method, where it decides whether to fill missing values with the median or mean based on the skewness of the distribution of the numeric columns."
   ]
  },
  {
   "cell_type": "code",
   "execution_count": 6,
   "metadata": {},
   "outputs": [
    {
     "name": "stdout",
     "output_type": "stream",
     "text": [
      "Missing values handled and high missing value columns dropped.\n",
      "Outlier detection complete.\n",
      "Outliers in column 'Bearer Id': Index([], dtype='int64')\n",
      "Outliers in column 'Start ms': Index([], dtype='int64')\n",
      "Outliers in column 'End ms': Index([], dtype='int64')\n",
      "Outliers in column 'Dur. (ms)': Index([0, 1, 2, 3, 4], dtype='int64')\n",
      "Outliers in column 'IMSI': Index([27541, 100027, 125042], dtype='int64')\n",
      "Outliers in column 'MSISDN/Number': Index([125042, 126060], dtype='int64')\n",
      "Outliers in column 'IMEI': Index([], dtype='int64')\n",
      "Outliers in column 'Avg RTT DL (ms)': Index([467, 505, 516, 517, 596], dtype='int64')\n",
      "Outliers in column 'Avg RTT UL (ms)': Index([58, 72, 184, 472, 595], dtype='int64')\n",
      "Outliers in column 'Avg Bearer TP DL (kbps)': Index([86, 323, 405, 538, 557], dtype='int64')\n",
      "Outliers in column 'Avg Bearer TP UL (kbps)': Index([132, 317, 331, 379, 539], dtype='int64')\n",
      "Outliers in column 'TCP DL Retrans. Vol (Bytes)': Index([538, 786, 902, 923, 1067], dtype='int64')\n",
      "Outliers in column 'TCP UL Retrans. Vol (Bytes)': Index([566, 821, 1246, 1381, 1505], dtype='int64')\n",
      "Outliers in column 'DL TP < 50 Kbps (%)': Index([147, 258, 385, 502, 538], dtype='int64')\n",
      "Outliers in column '50 Kbps < DL TP < 250 Kbps (%)': Index([9, 385, 394, 425, 474], dtype='int64')\n",
      "Outliers in column '250 Kbps < DL TP < 1 Mbps (%)': Index([101, 161, 174, 258, 502], dtype='int64')\n",
      "Outliers in column 'DL TP > 1 Mbps (%)': Index([84, 147, 483, 538, 557], dtype='int64')\n",
      "Outliers in column 'UL TP < 10 Kbps (%)': Index([538, 557, 649, 677, 744], dtype='int64')\n",
      "Outliers in column '10 Kbps < UL TP < 50 Kbps (%)': Index([174, 507, 538, 557, 649], dtype='int64')\n",
      "Outliers in column '50 Kbps < UL TP < 300 Kbps (%)': Index([649, 744, 758, 788, 815], dtype='int64')\n",
      "Outliers in column 'UL TP > 300 Kbps (%)': Index([579, 641, 649, 744, 758], dtype='int64')\n",
      "Outliers in column 'HTTP DL (Bytes)': Index([147, 161, 175, 538, 574], dtype='int64')\n",
      "Outliers in column 'HTTP UL (Bytes)': Index([38, 147, 161, 175, 246], dtype='int64')\n",
      "Outliers in column 'Activity Duration DL (ms)': Index([147, 152, 175, 246, 538], dtype='int64')\n",
      "Outliers in column 'Activity Duration UL (ms)': Index([38, 152, 174, 175, 246], dtype='int64')\n",
      "Outliers in column 'Dur. (ms).1': Index([0, 1, 2, 3, 4], dtype='int64')\n",
      "Outliers in column 'Nb of sec with 125000B < Vol DL': Index([84, 147, 538, 557, 574], dtype='int64')\n",
      "Outliers in column 'Nb of sec with 1250B < Vol UL < 6250B': Index([174, 538, 557, 649, 667], dtype='int64')\n",
      "Outliers in column 'Nb of sec with 31250B < Vol DL < 125000B': Index([147, 161, 174, 258, 454], dtype='int64')\n",
      "Outliers in column 'Nb of sec with 37500B < Vol UL': Index([539, 649, 744, 758, 788], dtype='int64')\n",
      "Outliers in column 'Nb of sec with 6250B < Vol DL < 31250B': Index([165, 174, 258, 425, 502], dtype='int64')\n",
      "Outliers in column 'Nb of sec with 6250B < Vol UL < 37500B': Index([538, 649, 744, 788, 821], dtype='int64')\n",
      "Outliers in column 'Nb of sec with Vol DL < 6250B': Index([38, 152, 159, 175, 246], dtype='int64')\n",
      "Outliers in column 'Nb of sec with Vol UL < 1250B': Index([38, 161, 175, 246, 420], dtype='int64')\n",
      "Outliers in column 'Social Media DL (Bytes)': Index([], dtype='int64')\n",
      "Outliers in column 'Social Media UL (Bytes)': Index([], dtype='int64')\n",
      "Outliers in column 'Google DL (Bytes)': Index([], dtype='int64')\n",
      "Outliers in column 'Google UL (Bytes)': Index([], dtype='int64')\n",
      "Outliers in column 'Email DL (Bytes)': Index([], dtype='int64')\n",
      "Outliers in column 'Email UL (Bytes)': Index([], dtype='int64')\n",
      "Outliers in column 'Youtube DL (Bytes)': Index([], dtype='int64')\n",
      "Outliers in column 'Youtube UL (Bytes)': Index([], dtype='int64')\n",
      "Outliers in column 'Netflix DL (Bytes)': Index([], dtype='int64')\n",
      "Outliers in column 'Netflix UL (Bytes)': Index([], dtype='int64')\n",
      "Outliers in column 'Gaming DL (Bytes)': Index([], dtype='int64')\n",
      "Outliers in column 'Gaming UL (Bytes)': Index([], dtype='int64')\n",
      "Outliers in column 'Other DL (Bytes)': Index([], dtype='int64')\n",
      "Outliers in column 'Other UL (Bytes)': Index([], dtype='int64')\n",
      "Outliers in column 'Total UL (Bytes)': Index([4455, 5992, 13520, 15366, 15917], dtype='int64')\n",
      "Outliers in column 'Total DL (Bytes)': Index([], dtype='int64')\n",
      "Outliers removed.\n",
      "Converted byte columns to megabytes.\n"
     ]
    }
   ],
   "source": [
    "df = data_utils.handle_missing_values()\n",
    "#df.head()\n",
    "\n",
    "outliers = data_utils.detect_outliers()\n",
    "\n",
    "for column, outlier_indices in outliers.items():\n",
    "    print(f\"Outliers in column '{column}': {outlier_indices[:5]}\")  # Show first 5 outlier indices\n",
    "\n",
    "df = data_utils.fix_outliers()\n",
    "df = data_utils.remove_outliers()\n",
    "#df.head()\n",
    "df = data_utils.convert_bytes_to_megabytes()"
   ]
  },
  {
   "cell_type": "markdown",
   "metadata": {},
   "source": []
  }
 ],
 "metadata": {
  "kernelspec": {
   "display_name": "Python 3",
   "language": "python",
   "name": "python3"
  },
  "language_info": {
   "codemirror_mode": {
    "name": "ipython",
    "version": 3
   },
   "file_extension": ".py",
   "mimetype": "text/x-python",
   "name": "python",
   "nbconvert_exporter": "python",
   "pygments_lexer": "ipython3",
   "version": "3.12.4"
  }
 },
 "nbformat": 4,
 "nbformat_minor": 2
}
