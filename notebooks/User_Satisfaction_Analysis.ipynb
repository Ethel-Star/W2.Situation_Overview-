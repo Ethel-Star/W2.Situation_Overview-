{
 "cells": [
  {
   "cell_type": "markdown",
   "metadata": {},
   "source": [
    "# 10 Academy: Artificial Intelligence Mastery\n",
    "# Situational Overview\n",
    "# Satisfaction Analysis\n",
    "Ethel Cherotaw "
   ]
  },
  {
   "cell_type": "code",
   "execution_count": 1,
   "metadata": {},
   "outputs": [],
   "source": [
    "import sys\n",
    "import os\n",
    "import pandas as pd\n",
    "import matplotlib.pyplot as plt\n",
    "import seaborn as sns\n",
    "import numpy as np\n",
    "from sklearn.cluster import KMeans\n",
    "\n",
    "\n",
    "# Add the scripts directory to the Python path\n",
    "scripts_dir = r'E:\\2017.Study\\Tenx\\Week-2\\Situation_Overview\\W2.Situation_Overview-\\scripts'\n",
    "src_dir = r'E:\\2017.Study\\Tenx\\Week-2\\Situation_Overview\\W2.Situation_Overview-\\src'\n",
    "sys.path.append(scripts_dir)\n",
    "sys.path.append(src_dir)\n",
    "from connection import DatabaseConnector\n",
    "from utils import DataUtils"
   ]
  },
  {
   "cell_type": "markdown",
   "metadata": {},
   "source": [
    "# 1.1 Data Extraction\n",
    "\n",
    "Connect to the database and pandas."
   ]
  },
  {
   "cell_type": "code",
   "execution_count": 2,
   "metadata": {},
   "outputs": [
    {
     "name": "stdout",
     "output_type": "stream",
     "text": [
      "Connection successful.\n",
      "Connection closed.\n"
     ]
    }
   ],
   "source": [
    "db_connector = DatabaseConnector()\n",
    "\n",
    "# Connect to the database\n",
    "db_connector.connect()\n",
    "\n",
    "# Define and execute a query\n",
    "query = \"SELECT * FROM xdr_data;\"\n",
    "df = db_connector.execute_query(query)\n",
    "\n",
    "# Print the DataFrame\n",
    "#if df is not None:\n",
    "    #print(df)\n",
    "db_connector.close_connection()\n",
    "#print(\"Columns in DataFrame:\", df.columns)"
   ]
  },
  {
   "cell_type": "markdown",
   "metadata": {},
   "source": [
    "# 1.2 Data Cleansing\n",
    "Missing Value, Outliers, and data conversion"
   ]
  },
  {
   "cell_type": "markdown",
   "metadata": {},
   "source": [
    "# 1.3 Handling Missing Value,\n",
    "Outliers , Fix( Median, Mean) and Remove Outliers Based on Z Score\n",
    "\n",
    "handles skewness in the handle_missing_values method, where it decides whether to fill missing values with the median or mean based on the skewness of the distribution of the numeric columns."
   ]
  },
  {
   "cell_type": "code",
   "execution_count": 3,
   "metadata": {},
   "outputs": [
    {
     "name": "stdout",
     "output_type": "stream",
     "text": [
      "Total columns with missing values: 41\n",
      "Top 5 columns with the most missing values:\n",
      "                                          Missing Values Percentage    Dtype\n",
      "Nb of sec with 37500B < Vol UL                    130254      86.8%  float64\n",
      "Nb of sec with 6250B < Vol UL < 37500B            111843      74.6%  float64\n",
      "Nb of sec with 125000B < Vol DL                    97538      65.0%  float64\n",
      "TCP UL Retrans. Vol (Bytes)                        96649      64.4%  float64\n",
      "Nb of sec with 31250B < Vol DL < 125000B           93586      62.4%  float64\n"
     ]
    }
   ],
   "source": [
    "data_utils = DataUtils(df)\n",
    "missing_summary = data_utils.check_missing_values()\n",
    "#print(\"Missing Values Summary:\\n\", missing_summary)"
   ]
  },
  {
   "cell_type": "code",
   "execution_count": 4,
   "metadata": {},
   "outputs": [
    {
     "name": "stdout",
     "output_type": "stream",
     "text": [
      "Missing values handled and high missing value columns dropped.\n",
      "Outlier detection complete.\n",
      "Outliers in column 'Bearer Id': Index([], dtype='int64')\n",
      "Outliers in column 'Start ms': Index([], dtype='int64')\n",
      "Outliers in column 'End ms': Index([], dtype='int64')\n",
      "Outliers in column 'Dur. (ms)': Index([0, 1, 2, 3, 4], dtype='int64')\n",
      "Outliers in column 'IMSI': Index([27541, 100027, 125042], dtype='int64')\n",
      "Outliers in column 'MSISDN/Number': Index([125042, 126060], dtype='int64')\n",
      "Outliers in column 'IMEI': Index([], dtype='int64')\n",
      "Outliers in column 'Avg RTT DL (ms)': Index([467, 505, 516, 517, 596], dtype='int64')\n",
      "Outliers in column 'Avg RTT UL (ms)': Index([58, 72, 184, 472, 595], dtype='int64')\n",
      "Outliers in column 'Avg Bearer TP DL (kbps)': Index([86, 323, 405, 538, 557], dtype='int64')\n",
      "Outliers in column 'Avg Bearer TP UL (kbps)': Index([132, 317, 331, 379, 539], dtype='int64')\n",
      "Outliers in column 'TCP DL Retrans. Vol (Bytes)': Index([538, 786, 902, 923, 1067], dtype='int64')\n",
      "Outliers in column 'TCP UL Retrans. Vol (Bytes)': Index([566, 821, 1246, 1381, 1505], dtype='int64')\n",
      "Outliers in column 'DL TP < 50 Kbps (%)': Index([147, 258, 385, 502, 538], dtype='int64')\n",
      "Outliers in column '50 Kbps < DL TP < 250 Kbps (%)': Index([9, 385, 394, 425, 474], dtype='int64')\n",
      "Outliers in column '250 Kbps < DL TP < 1 Mbps (%)': Index([101, 161, 174, 258, 502], dtype='int64')\n",
      "Outliers in column 'DL TP > 1 Mbps (%)': Index([84, 147, 483, 538, 557], dtype='int64')\n",
      "Outliers in column 'UL TP < 10 Kbps (%)': Index([538, 557, 649, 677, 744], dtype='int64')\n",
      "Outliers in column '10 Kbps < UL TP < 50 Kbps (%)': Index([174, 507, 538, 557, 649], dtype='int64')\n",
      "Outliers in column '50 Kbps < UL TP < 300 Kbps (%)': Index([649, 744, 758, 788, 815], dtype='int64')\n",
      "Outliers in column 'UL TP > 300 Kbps (%)': Index([579, 641, 649, 744, 758], dtype='int64')\n",
      "Outliers in column 'HTTP DL (Bytes)': Index([147, 161, 175, 538, 574], dtype='int64')\n",
      "Outliers in column 'HTTP UL (Bytes)': Index([38, 147, 161, 175, 246], dtype='int64')\n",
      "Outliers in column 'Activity Duration DL (ms)': Index([147, 152, 175, 246, 538], dtype='int64')\n",
      "Outliers in column 'Activity Duration UL (ms)': Index([38, 152, 174, 175, 246], dtype='int64')\n",
      "Outliers in column 'Dur. (ms).1': Index([0, 1, 2, 3, 4], dtype='int64')\n",
      "Outliers in column 'Nb of sec with 125000B < Vol DL': Index([84, 147, 538, 557, 574], dtype='int64')\n",
      "Outliers in column 'Nb of sec with 1250B < Vol UL < 6250B': Index([174, 538, 557, 649, 667], dtype='int64')\n",
      "Outliers in column 'Nb of sec with 31250B < Vol DL < 125000B': Index([147, 161, 174, 258, 454], dtype='int64')\n",
      "Outliers in column 'Nb of sec with 37500B < Vol UL': Index([539, 649, 744, 758, 788], dtype='int64')\n",
      "Outliers in column 'Nb of sec with 6250B < Vol DL < 31250B': Index([165, 174, 258, 425, 502], dtype='int64')\n",
      "Outliers in column 'Nb of sec with 6250B < Vol UL < 37500B': Index([538, 649, 744, 788, 821], dtype='int64')\n",
      "Outliers in column 'Nb of sec with Vol DL < 6250B': Index([38, 152, 159, 175, 246], dtype='int64')\n",
      "Outliers in column 'Nb of sec with Vol UL < 1250B': Index([38, 161, 175, 246, 420], dtype='int64')\n",
      "Outliers in column 'Social Media DL (Bytes)': Index([], dtype='int64')\n",
      "Outliers in column 'Social Media UL (Bytes)': Index([], dtype='int64')\n",
      "Outliers in column 'Google DL (Bytes)': Index([], dtype='int64')\n",
      "Outliers in column 'Google UL (Bytes)': Index([], dtype='int64')\n",
      "Outliers in column 'Email DL (Bytes)': Index([], dtype='int64')\n",
      "Outliers in column 'Email UL (Bytes)': Index([], dtype='int64')\n",
      "Outliers in column 'Youtube DL (Bytes)': Index([], dtype='int64')\n",
      "Outliers in column 'Youtube UL (Bytes)': Index([], dtype='int64')\n",
      "Outliers in column 'Netflix DL (Bytes)': Index([], dtype='int64')\n",
      "Outliers in column 'Netflix UL (Bytes)': Index([], dtype='int64')\n",
      "Outliers in column 'Gaming DL (Bytes)': Index([], dtype='int64')\n",
      "Outliers in column 'Gaming UL (Bytes)': Index([], dtype='int64')\n",
      "Outliers in column 'Other DL (Bytes)': Index([], dtype='int64')\n",
      "Outliers in column 'Other UL (Bytes)': Index([], dtype='int64')\n",
      "Outliers in column 'Total UL (Bytes)': Index([4455, 5992, 13520, 15366, 15917], dtype='int64')\n",
      "Outliers in column 'Total DL (Bytes)': Index([], dtype='int64')\n",
      "Outliers removed.\n",
      "Converted byte columns to megabytes.\n"
     ]
    }
   ],
   "source": [
    "df = data_utils.handle_missing_values()\n",
    "#df.head()\n",
    "\n",
    "outliers = data_utils.detect_outliers()\n",
    "\n",
    "for column, outlier_indices in outliers.items():\n",
    "    print(f\"Outliers in column '{column}': {outlier_indices[:5]}\")  # Show first 5 outlier indices\n",
    "\n",
    "df = data_utils.fix_outliers()\n",
    "df = data_utils.remove_outliers()\n",
    "#df.head()\n",
    "df = data_utils.convert_bytes_to_megabytes()"
   ]
  },
  {
   "cell_type": "markdown",
   "metadata": {},
   "source": [
    "# 2. Satisfaction Analysis"
   ]
  },
  {
   "cell_type": "markdown",
   "metadata": {},
   "source": [
    "### Engagement Score "
   ]
  },
  {
   "cell_type": "code",
   "execution_count": 8,
   "metadata": {},
   "outputs": [
    {
     "name": "stdout",
     "output_type": "stream",
     "text": [
      "Metrics normalized.\n",
      "Cluster centers:\n",
      " [[-1.41393603e-03  8.27890361e-01  5.26358940e-01  8.27890361e-01\n",
      "   5.26358940e-01]\n",
      " [-4.67974390e-04  6.76521550e-02 -1.20578742e+00  6.76521550e-02\n",
      "  -1.20578742e+00]\n",
      " [ 1.99592968e-03 -9.93605602e-01  4.27651053e-01 -9.93605602e-01\n",
      "   4.27651053e-01]]\n",
      "Number of customers in each cluster:\n",
      " Cluster\n",
      "0    41696\n",
      "2    36930\n",
      "1    31278\n",
      "Name: count, dtype: int64\n",
      "Least engaged cluster: 1\n",
      "Centroid of least engaged cluster: [-4.67974390e-04  6.76521550e-02 -1.20578742e+00  6.76521550e-02\n",
      " -1.20578742e+00]\n",
      "   Cluster  Engagement_score\n",
      "0        2          1.541934\n",
      "1        0          3.889137\n",
      "2        1          1.089541\n",
      "3        0          2.189521\n",
      "4        0          1.686843\n"
     ]
    }
   ],
   "source": [
    "data_utils.analyze_customer_engagement()\n",
    "df_with_clusters, kmeans_model = data_utils.perform_kmeans_clustering(k=3)\n",
    "df_with_engagement_scores = data_utils.calculate_engagement_scores()\n",
    "# View the first few rows to check the engagement scores\n",
    "print(df_with_engagement_scores[['Cluster', 'Engagement_score']].head())"
   ]
  },
  {
   "cell_type": "markdown",
   "metadata": {},
   "source": [
    "### Experience score "
   ]
  },
  {
   "cell_type": "code",
   "execution_count": 7,
   "metadata": {},
   "outputs": [
    {
     "name": "stdout",
     "output_type": "stream",
     "text": [
      "Experience scores calculated.\n",
      "   Cluster  Experience_score\n",
      "0        0          9.582069\n",
      "1        1         10.512556\n",
      "2        0         10.516003\n",
      "3        1         10.554859\n",
      "4        1          9.794460\n"
     ]
    }
   ],
   "source": [
    "data_utils.apply_kmeans_clustering(n_clusters=3)\n",
    "\n",
    "# Calculate experience scores\n",
    "df_with_experience_scores = data_utils.calculate_experience_scores()\n",
    "\n",
    "# View the first few rows to check the experience scores\n",
    "print(df_with_experience_scores[['Cluster', 'Experience_score']].head())"
   ]
  }
 ],
 "metadata": {
  "kernelspec": {
   "display_name": "myenv",
   "language": "python",
   "name": "python3"
  },
  "language_info": {
   "codemirror_mode": {
    "name": "ipython",
    "version": 3
   },
   "file_extension": ".py",
   "mimetype": "text/x-python",
   "name": "python",
   "nbconvert_exporter": "python",
   "pygments_lexer": "ipython3",
   "version": "3.12.4"
  }
 },
 "nbformat": 4,
 "nbformat_minor": 2
}
