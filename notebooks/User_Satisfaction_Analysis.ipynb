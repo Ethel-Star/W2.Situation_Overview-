{
 "cells": [
  {
   "cell_type": "markdown",
   "metadata": {},
   "source": [
    "# 10 Academy: Artificial Intelligence Mastery\n",
    "# Situational Overview\n",
    "# Satisfaction Analysis\n",
    "Ethel Cherotaw "
   ]
  },
  {
   "cell_type": "code",
   "execution_count": 2,
   "metadata": {},
   "outputs": [],
   "source": [
    "import sys\n",
    "import os\n",
    "import pandas as pd\n",
    "import matplotlib.pyplot as plt\n",
    "import seaborn as sns\n",
    "import numpy as np\n",
    "from sklearn.cluster import KMeans\n",
    "\n",
    "\n",
    "# Add the scripts directory to the Python path\n",
    "scripts_dir = r'E:\\2017.Study\\Tenx\\Week-2\\Situation_Overview\\W2.Situation_Overview-\\scripts'\n",
    "src_dir = r'E:\\2017.Study\\Tenx\\Week-2\\Situation_Overview\\W2.Situation_Overview-\\src'\n",
    "sys.path.append(scripts_dir)\n",
    "sys.path.append(src_dir)\n",
    "from connection import DatabaseConnector\n",
    "from utils import DataUtils"
   ]
  },
  {
   "cell_type": "markdown",
   "metadata": {},
   "source": [
    "# 1.1 Data Extraction\n",
    "\n",
    "Connect to the database and pandas."
   ]
  },
  {
   "cell_type": "code",
   "execution_count": 5,
   "metadata": {},
   "outputs": [
    {
     "name": "stdout",
     "output_type": "stream",
     "text": [
      "Connection successful.\n",
      "Connection closed.\n"
     ]
    }
   ],
   "source": [
    "db_connector = DatabaseConnector()\n",
    "\n",
    "# Connect to the database\n",
    "db_connector.connect()\n",
    "\n",
    "# Define and execute a query\n",
    "query = \"SELECT * FROM xdr_data;\"\n",
    "df = db_connector.execute_query(query)\n",
    "\n",
    "# Print the DataFrame\n",
    "#if df is not None:\n",
    "    #print(df)\n",
    "db_connector.close_connection()\n",
    "#print(\"Columns in DataFrame:\", df.columns)"
   ]
  },
  {
   "cell_type": "markdown",
   "metadata": {},
   "source": [
    "# 1.2 Data Cleansing\n",
    "Missing Value, Outliers, and data conversion"
   ]
  },
  {
   "cell_type": "markdown",
   "metadata": {},
   "source": [
    "# 1.3 Handling Missing Value,\n",
    "Outliers , Fix( Median, Mean) and Remove Outliers Based on Z Score\n",
    "\n",
    "handles skewness in the handle_missing_values method, where it decides whether to fill missing values with the median or mean based on the skewness of the distribution of the numeric columns."
   ]
  },
  {
   "cell_type": "code",
   "execution_count": null,
   "metadata": {},
   "outputs": [],
   "source": [
    "df = data_utils.handle_missing_values()\n",
    "#df.head()\n",
    "\n",
    "outliers = data_utils.detect_outliers()\n",
    "\n",
    "for column, outlier_indices in outliers.items():\n",
    "    print(f\"Outliers in column '{column}': {outlier_indices[:5]}\")  # Show first 5 outlier indices\n",
    "\n",
    "df = data_utils.fix_outliers()\n",
    "df = data_utils.remove_outliers()\n",
    "#df.head()\n",
    "df = data_utils.convert_bytes_to_megabytes()"
   ]
  },
  {
   "cell_type": "markdown",
   "metadata": {},
   "source": [
    "# 2. Satisfaction Analysis"
   ]
  }
 ],
 "metadata": {
  "kernelspec": {
   "display_name": "myenv",
   "language": "python",
   "name": "python3"
  },
  "language_info": {
   "codemirror_mode": {
    "name": "ipython",
    "version": 3
   },
   "file_extension": ".py",
   "mimetype": "text/x-python",
   "name": "python",
   "nbconvert_exporter": "python",
   "pygments_lexer": "ipython3",
   "version": "3.12.4"
  }
 },
 "nbformat": 4,
 "nbformat_minor": 2
}
